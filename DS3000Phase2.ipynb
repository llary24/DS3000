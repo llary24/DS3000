{
 "cells": [
  {
   "cell_type": "markdown",
   "id": "35935a5c-af0e-4781-9ae6-808ce1c99b44",
   "metadata": {},
   "source": [
    "# Phase II: Data Curation, Exploratory Analysis and Plotting (5\\%)\n",
    "\n",
    "### Team Members:\n",
    "- Logan Lary\n",
    "- Mark Tran\n",
    "- Sabrina Valerjev"
   ]
  },
  {
   "cell_type": "markdown",
   "id": "7c048d52-5297-4694-a9a4-5134bf78fba1",
   "metadata": {},
   "source": [
    "## Part 1: \n",
    "(1%) Expresses the central motivation of the project and explains the (at least) two key questions to be explored. Gives a summary of the data processing pipeline so a technical expert can easily follow along."
   ]
  },
  {
   "cell_type": "markdown",
   "id": "b496568b-b26e-439b-8490-b9b92e4d1dab",
   "metadata": {},
   "source": [
    "## Project Motivation"
   ]
  },
  {
   "cell_type": "markdown",
   "id": "01b1f408-fa48-4b88-9f8d-3a0acc3176e9",
   "metadata": {},
   "source": [
    "## Summary of the Data Processing Pipeline"
   ]
  }
 ],
 "metadata": {
  "kernelspec": {
   "display_name": "Python 3 (ipykernel)",
   "language": "python",
   "name": "python3"
  },
  "language_info": {
   "codemirror_mode": {
    "name": "ipython",
    "version": 3
   },
   "file_extension": ".py",
   "mimetype": "text/x-python",
   "name": "python",
   "nbconvert_exporter": "python",
   "pygments_lexer": "ipython3",
   "version": "3.10.14"
  }
 },
 "nbformat": 4,
 "nbformat_minor": 5
}
